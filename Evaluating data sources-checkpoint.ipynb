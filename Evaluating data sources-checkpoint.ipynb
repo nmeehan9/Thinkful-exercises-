{
 "cells": [
  {
   "cell_type": "markdown",
   "metadata": {},
   "source": [
    "o\tData Source: Amsterdam availability data scraped from AirBnB on December 24th. Question: What are the popular neighborhoods in Amsterdam?\n",
    "\n",
    "This does not seem like a good time of the year to scrape data on availability for AirBnB’s. Being that it’s the day before Christmas, most people will be at home with their families and not traveling. A lot of the more popular neighborhoods in Amsterdam will probably have a lot more availability during this time since it’s not really a popular time for traveling/tourism.\n",
    "\n",
    "o\tData Source: Mental health services use on September 12, 2001 in San Francisco, CA and New York City, NY. Question: How do patterns of mental health service use vary between cities?\n",
    "\n",
    "This would be an exceptional circumstance. Given the terrorist attacks on 9/11 had happened the day prior, it would probably skew the data to the extreme between New York City and San Francisco. Not to say citizens in San Francisco weren’t distraught over what happened, but since it happened in New York City, the mental health services there probably saw a much larger usage at that time.\n",
    "\n",
    "o\tData Source: Armenian Pub Survey. Question: What are the most common reasons Armenians visit local pubs?\n",
    "\n",
    "Nearly all the respondents in this survey are 23 or younger. Because of the age, you get a lot of “Hang out with friends” as a reason to visit local pubs. That seems reasonable for the age group that was surveyed since young people tend to have more free time to spend at pubs visiting with friends. If they had surveyed older people with families, I’m sure they’d of gotten many more responses like “special events / parties” and “Birthdays” which would give older people a reason to fit going into the pubs into their schedule. \n"
   ]
  }
 ],
 "metadata": {
  "kernelspec": {
   "display_name": "Python 3",
   "language": "python",
   "name": "python3"
  },
  "language_info": {
   "codemirror_mode": {
    "name": "ipython",
    "version": 3
   },
   "file_extension": ".py",
   "mimetype": "text/x-python",
   "name": "python",
   "nbconvert_exporter": "python",
   "pygments_lexer": "ipython3",
   "version": "3.7.0"
  }
 },
 "nbformat": 4,
 "nbformat_minor": 2
}
