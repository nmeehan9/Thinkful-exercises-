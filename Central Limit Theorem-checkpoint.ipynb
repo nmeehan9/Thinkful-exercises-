{
 "cells": [
  {
   "cell_type": "code",
   "execution_count": 1,
   "metadata": {},
   "outputs": [],
   "source": [
    "import pandas as pd\n",
    "import numpy as np\n",
    "import scipy\n",
    "import matplotlib.pyplot as plt\n",
    "%matplotlib inline"
   ]
  },
  {
   "cell_type": "code",
   "execution_count": 2,
   "metadata": {},
   "outputs": [],
   "source": [
    "pop1 = np.random.binomial(10,.2,10000)\n",
    "\n",
    "pop2 = np.random.binomial(10,.5,10000)"
   ]
  },
  {
   "cell_type": "code",
   "execution_count": 3,
   "metadata": {},
   "outputs": [
    {
     "data": {
      "image/png": "[encoded data removed]",
      "text/plain": [
       "<Figure size 432x288 with 1 Axes>"
      ]
     },
     "metadata": {},
     "output_type": "display_data"
    }
   ],
   "source": [
    "plt.hist(pop1,alpha = .5, label = 'Population 1')\n",
    "plt.hist(pop2, alpha = .5, label = 'Population 2')\n",
    "plt.legend(loc='upper right')\n",
    "plt.show()"
   ]
  },
  {
   "cell_type": "markdown",
   "metadata": {},
   "source": [
    "1) Increase the size of your samples from 100 to 1000, then calculate the means and standard deviations for your new samples and create histograms for each. Repeat this again, decreasing the size of your samples to 20. What values change, and what remain the same?\n",
    "\n",
    "I think increasing the samples to 1000 will change the mean and std ever so slightly, but not significantly. I think changing the sample size to 20 could have a much more dramatic effect on the mean and std. Since there aren't as many data points, the mean and std could be more influenced if there are a greater number of outliers in the smaller sample."
   ]
  },
  {
   "cell_type": "code",
   "execution_count": 4,
   "metadata": {},
   "outputs": [
    {
     "data": {
      "image/png": "[encoded data removed]",
      "text/plain": [
       "<Figure size 432x288 with 1 Axes>"
      ]
     },
     "metadata": {},
     "output_type": "display_data"
    }
   ],
   "source": [
    "sample1 = np.random.choice(pop1,1000, replace = True)\n",
    "sample2 = np.random.choice(pop2,1000, replace = True)\n",
    "\n",
    "plt.hist(sample1, alpha = .5, label = 'Sample 1')\n",
    "plt.hist(sample2, alpha = .5, label = 'Sample 2')\n",
    "plt.legend(loc = 'upper right')\n",
    "plt.show()"
   ]
  },
  {
   "cell_type": "code",
   "execution_count": 5,
   "metadata": {},
   "outputs": [
    {
     "name": "stdout",
     "output_type": "stream",
     "text": [
      "1.941\n",
      "4.978\n",
      "1.228624841031631\n",
      "1.614780480436892\n",
      "3.037\n"
     ]
    }
   ],
   "source": [
    "print(sample1.mean())\n",
    "print(sample2.mean())\n",
    "print(sample1.std())\n",
    "print(sample2.std())\n",
    "\n",
    "diff = sample2.mean() - sample1.mean()\n",
    "print(diff)"
   ]
  },
  {
   "cell_type": "code",
   "execution_count": 6,
   "metadata": {},
   "outputs": [
    {
     "data": {
      "image/png": "[encoded data removed]",
      "text/plain": [
       "<Figure size 432x288 with 1 Axes>"
      ]
     },
     "metadata": {},
     "output_type": "display_data"
    }
   ],
   "source": [
    "sample3 = np.random.choice(pop1,20, replace = True)\n",
    "sample4 = np.random.choice(pop2,20, replace = True)\n",
    "\n",
    "plt.hist(sample3, alpha = .5, label = 'Sample 3')\n",
    "plt.hist(sample4, alpha = .5, label = 'Sample 4')\n",
    "plt.legend(loc = 'upper right')\n",
    "plt.show()"
   ]
  },
  {
   "cell_type": "code",
   "execution_count": 7,
   "metadata": {},
   "outputs": [
    {
     "name": "stdout",
     "output_type": "stream",
     "text": [
      "1.7\n",
      "5.35\n",
      "1.345362404707371\n",
      "1.710993863226867\n",
      "3.6499999999999995\n"
     ]
    }
   ],
   "source": [
    "print(sample3.mean())\n",
    "print(sample4.mean())\n",
    "print(sample3.std())\n",
    "print(sample4.std())\n",
    "\n",
    "diff = sample4.mean() - sample3.mean()\n",
    "print(diff)"
   ]
  },
  {
   "cell_type": "code",
   "execution_count": 8,
   "metadata": {},
   "outputs": [
    {
     "name": "stdout",
     "output_type": "stream",
     "text": [
      "56.88536969966122\n"
     ]
    }
   ],
   "source": [
    "size = np.array([len(sample1),len(sample2)])\n",
    "\n",
    "sd = np.array([sample1.std(),sample2.std()])\n",
    "\n",
    "diff_se = (sum(sd**2/size))**.5\n",
    "\n",
    "print(diff/diff_se)"
   ]
  },
  {
   "cell_type": "code",
   "execution_count": 9,
   "metadata": {},
   "outputs": [
    {
     "name": "stdout",
     "output_type": "stream",
     "text": [
      "Ttest_indResult(statistic=47.30807280495052, pvalue=1.166e-321)\n"
     ]
    }
   ],
   "source": [
    "from scipy.stats import ttest_ind\n",
    "print(ttest_ind(sample2,sample1,equal_var = False))"
   ]
  },
  {
   "cell_type": "markdown",
   "metadata": {},
   "source": [
    "2) Change the probability value (p in the NumPy documentation) for pop1 to 0.3, then take new samples and compute the t-statistic and p-value. Then change the probability value p for group 1 to 0.4, and do it again. What changes, and why?\n",
    "\n",
    "Since the difference between populations is getting smaller, we should get a higher and higher p-value. I think we should also get a lower t-value since the means should be closer to each other. "
   ]
  },
  {
   "cell_type": "code",
   "execution_count": 12,
   "metadata": {},
   "outputs": [],
   "source": [
    "pop3 = np.random.binomial(10,.3,10000)\n",
    "\n",
    "pop4 = np.random.binomial(10,.5,10000)"
   ]
  },
  {
   "cell_type": "code",
   "execution_count": 13,
   "metadata": {},
   "outputs": [
    {
     "name": "stdout",
     "output_type": "stream",
     "text": [
      "Ttest_indResult(statistic=28.881816080608775, pvalue=2.99578581800478e-153)\n"
     ]
    }
   ],
   "source": [
    "sample5 = np.random.choice(pop3,1000, replace = True)\n",
    "sample6 = np.random.choice(pop4,1000, replace = True)\n",
    "\n",
    "from scipy.stats import ttest_ind\n",
    "print(ttest_ind(sample6,sample5,equal_var = False))"
   ]
  },
  {
   "cell_type": "code",
   "execution_count": 15,
   "metadata": {},
   "outputs": [],
   "source": [
    "pop5 = np.random.binomial(10,.4,10000)\n",
    "\n",
    "pop6 = np.random.binomial(10,.5,10000)"
   ]
  },
  {
   "cell_type": "code",
   "execution_count": 16,
   "metadata": {},
   "outputs": [
    {
     "name": "stdout",
     "output_type": "stream",
     "text": [
      "Ttest_indResult(statistic=12.678424521442452, pvalue=1.760337406069395e-35)\n"
     ]
    }
   ],
   "source": [
    "sample7 = np.random.choice(pop5,1000, replace = True)\n",
    "sample8 = np.random.choice(pop6,1000, replace = True)\n",
    "\n",
    "print(ttest_ind(sample8,sample7,equal_var = False))"
   ]
  },
  {
   "cell_type": "markdown",
   "metadata": {},
   "source": [
    "3) Change the distribution of your populations from binomial to a distribution of your choice. Do the sample mean values still accurately represent the population values?"
   ]
  },
  {
   "cell_type": "code",
   "execution_count": 17,
   "metadata": {},
   "outputs": [],
   "source": [
    "pop7 = np.random.geometric(.2,10000)\n",
    "pop8 = np.random.geometric(.5,10000)"
   ]
  },
  {
   "cell_type": "code",
   "execution_count": 19,
   "metadata": {},
   "outputs": [
    {
     "name": "stdout",
     "output_type": "stream",
     "text": [
      "5.007\n",
      "2.047\n"
     ]
    }
   ],
   "source": [
    "sample9 = np.random.choice(pop7,1000,replace = True)\n",
    "sample10 = np.random.choice(pop8,1000,replace = True)\n",
    "\n",
    "print(sample9.mean())\n",
    "print(sample10.mean())"
   ]
  },
  {
   "cell_type": "markdown",
   "metadata": {},
   "source": [
    "-They look like they flipped?"
   ]
  }
 ],
 "metadata": {
  "kernelspec": {
   "display_name": "Python 3",
   "language": "python",
   "name": "python3"
  },
  "language_info": {
   "codemirror_mode": {
    "name": "ipython",
    "version": 3
   },
   "file_extension": ".py",
   "mimetype": "text/x-python",
   "name": "python",
   "nbconvert_exporter": "python",
   "pygments_lexer": "ipython3",
   "version": "3.7.0"
  }
 },
 "nbformat": 4,
 "nbformat_minor": 2
}
